{
 "cells": [
  {
   "cell_type": "code",
   "execution_count": 12,
   "metadata": {},
   "outputs": [],
   "source": [
    "import numpy as np \n",
    "def save_numpy_array(data,filename=\"\"):\n",
    "    path = '/Users/paul.tgr/aPavel/VAE_diploma/diploma_scripts/filters/saved_metrics/'\n",
    "    np.savetxt(path + filename, data, delimiter=',')\n",
    "\n",
    "def load_numpy_array(filename=\"\"):\n",
    "    path = '/Users/paul.tgr/aPavel/VAE_diploma/diploma_scripts/filters/saved_metrics/'\n",
    "    return np.loadtxt(path + filename, delimiter=',')"
   ]
  },
  {
   "cell_type": "code",
   "execution_count": 13,
   "metadata": {},
   "outputs": [
    {
     "name": "stdout",
     "output_type": "stream",
     "text": [
      "[[ 1.  2.  3.  4.  5.  7.  2.  0.]\n",
      " [ 1.  2.  3.  4.  5.  7.  2.  0.]\n",
      " [ 1.  2.  3.  4.  5.  7.  2.  0.]\n",
      " [ 1.  2.  3.  4. 56.  7.  2.  0.]]\n"
     ]
    }
   ],
   "source": [
    "save_numpy_array(a,\"a.csv\")\n",
    "b = load_numpy_array(\"a.csv\")\n",
    "# print the array\n",
    "print(b)"
   ]
  },
  {
   "cell_type": "code",
   "execution_count": null,
   "metadata": {},
   "outputs": [],
   "source": []
  }
 ],
 "metadata": {
  "kernelspec": {
   "display_name": "Python 3",
   "language": "python",
   "name": "python3"
  },
  "language_info": {
   "codemirror_mode": {
    "name": "ipython",
    "version": 3
   },
   "file_extension": ".py",
   "mimetype": "text/x-python",
   "name": "python",
   "nbconvert_exporter": "python",
   "pygments_lexer": "ipython3",
   "version": "3.7.4"
  }
 },
 "nbformat": 4,
 "nbformat_minor": 2
}
