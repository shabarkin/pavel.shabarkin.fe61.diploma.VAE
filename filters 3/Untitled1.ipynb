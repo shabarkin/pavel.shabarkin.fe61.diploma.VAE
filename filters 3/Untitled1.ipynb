{
 "cells": [
  {
   "cell_type": "code",
   "execution_count": 2,
   "metadata": {},
   "outputs": [
    {
     "name": "stderr",
     "output_type": "stream",
     "text": [
      "Using TensorFlow backend.\n"
     ]
    },
    {
     "name": "stdout",
     "output_type": "stream",
     "text": [
      "COVER:\n",
      "Creating dataset of 10 samples in 0.35s\n",
      "\n",
      "MG:\n",
      "Creating dataset of 10 samples in 0.22s\n",
      "Creating dataset of 10 samples in 0.15s\n",
      "Creating dataset of 10 samples in 0.07s\n",
      "Creating dataset of 10 samples in 0.14s\n",
      "Creating dataset of 10 samples in 0.08s\n",
      "Creating dataset of 10 samples in 0.08s\n",
      "\n",
      "S-UNIWARD:\n",
      "Creating dataset of 10 samples in 0.13s\n",
      "Creating dataset of 10 samples in 0.12s\n",
      "Creating dataset of 10 samples in 0.09s\n",
      "Creating dataset of 10 samples in 0.08s\n",
      "Creating dataset of 10 samples in 0.09s\n",
      "Creating dataset of 10 samples in 0.08s\n"
     ]
    }
   ],
   "source": [
    "from config import path_cover,path_stego_mg,path_stego_uniward\n",
    "from pipeline import generate_all_type_of_samples\n",
    "cover, stego_mg, stego_uniward = generate_all_type_of_samples(path_cover,path_stego_mg, path_stego_uniward)"
   ]
  },
  {
   "cell_type": "code",
   "execution_count": null,
   "metadata": {},
   "outputs": [],
   "source": [
    "from pipeline import bilateral_all_samples\n",
    "bilateral_cover,bilateral_stego_mg,bilateral_stego_uniward = bilateral_all_samples(cover,stego_mg,stego_uniward)"
   ]
  }
 ],
 "metadata": {
  "kernelspec": {
   "display_name": "Python 3",
   "language": "python",
   "name": "python3"
  },
  "language_info": {
   "codemirror_mode": {
    "name": "ipython",
    "version": 3
   },
   "file_extension": ".py",
   "mimetype": "text/x-python",
   "name": "python",
   "nbconvert_exporter": "python",
   "pygments_lexer": "ipython3",
   "version": "3.7.4"
  }
 },
 "nbformat": 4,
 "nbformat_minor": 2
}
